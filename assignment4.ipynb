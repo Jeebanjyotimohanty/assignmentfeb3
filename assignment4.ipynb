{
 "cells": [
  {
   "cell_type": "code",
   "execution_count": 1,
   "id": "e9384f73-ab93-4fbc-a964-aa6534f39c05",
   "metadata": {},
   "outputs": [],
   "source": [
    "#1)def keyword is used to create a function.\n",
    "def odd():\n",
    "    for i in range(1,26,2):\n",
    "        print(i)"
   ]
  },
  {
   "cell_type": "code",
   "execution_count": 2,
   "id": "402bc69d-c413-47f4-af93-d523ac700e6b",
   "metadata": {},
   "outputs": [
    {
     "name": "stdout",
     "output_type": "stream",
     "text": [
      "1\n",
      "3\n",
      "5\n",
      "7\n",
      "9\n",
      "11\n",
      "13\n",
      "15\n",
      "17\n",
      "19\n",
      "21\n",
      "23\n",
      "25\n"
     ]
    }
   ],
   "source": [
    "odd()"
   ]
  },
  {
   "cell_type": "code",
   "execution_count": 20,
   "id": "cfca898e-7d9e-4451-a041-d4b84a148e83",
   "metadata": {},
   "outputs": [],
   "source": [
    "#2)*args allows us to pass a variable number of non-keyword arguments to a Python function\n",
    "\n",
    "def myFun(*args):\n",
    "    return args"
   ]
  },
  {
   "cell_type": "code",
   "execution_count": 21,
   "id": "f8515ff0-bd2e-49e3-a9e8-51b2a2589feb",
   "metadata": {},
   "outputs": [
    {
     "data": {
      "text/plain": [
       "(1, 23, 'Jeeban')"
      ]
     },
     "execution_count": 21,
     "metadata": {},
     "output_type": "execute_result"
    }
   ],
   "source": [
    "myFun(1,23,\"Jeeban\")"
   ]
  },
  {
   "cell_type": "code",
   "execution_count": 22,
   "id": "c39d72eb-ab33-464d-9d72-ea41d28d33d4",
   "metadata": {},
   "outputs": [],
   "source": [
    "#**kwargs in function definitions in python is used to pass a keyworded, variable-length argument list\n",
    "def myFun(**kwargs):\n",
    "    return kwargs"
   ]
  },
  {
   "cell_type": "code",
   "execution_count": 25,
   "id": "33d99a77-e014-4a87-85b1-8cbdc5d503bd",
   "metadata": {},
   "outputs": [
    {
     "data": {
      "text/plain": [
       "{'a': 23, 'b': 63, 'c': {'key1': 1, 'key2': 2}, 'd': [12, 45.69, 'Jeeban']}"
      ]
     },
     "execution_count": 25,
     "metadata": {},
     "output_type": "execute_result"
    }
   ],
   "source": [
    "myFun(a=23,b=63,c={\"key1\":1,\"key2\":2},d=[12,45.69,\"Jeeban\"])"
   ]
  },
  {
   "cell_type": "code",
   "execution_count": 2,
   "id": "c3889e7b-d3ec-4481-8379-51a967724fdd",
   "metadata": {},
   "outputs": [
    {
     "name": "stdout",
     "output_type": "stream",
     "text": [
      "2\n",
      "4\n",
      "6\n",
      "8\n",
      "10\n"
     ]
    }
   ],
   "source": [
    "\"\"\"3)An iterator is an object that contains a countable number of values. An iterator is an object that can be iterated upon, meaning that you can traverse through all the values.\n",
    "    special method to initialize iterator is to use iter() and the method used for iteration is next()\n",
    "\"\"\"\n",
    "l=[2, 4, 6, 8, 10, 12, 14,16, 18, 20]\n",
    "a=iter(l)\n",
    "for i in range(5):\n",
    "   print(next(a))"
   ]
  },
  {
   "cell_type": "code",
   "execution_count": 10,
   "id": "cfabb74f-d00f-4c3d-992f-d68ee21fe6e1",
   "metadata": {},
   "outputs": [],
   "source": [
    "#4)In Python, a generator is a function that returns an iterator that produces a sequence of values when iterated over.\n",
    "#yield keyword is used to create a generator function.\n",
    "def test0(x):\n",
    "    for i in range(x):\n",
    "        yield i"
   ]
  },
  {
   "cell_type": "code",
   "execution_count": 13,
   "id": "28853eb8-ed8e-45a7-9697-41c1dba5a68e",
   "metadata": {},
   "outputs": [
    {
     "name": "stdout",
     "output_type": "stream",
     "text": [
      "1\n",
      "3\n",
      "5\n",
      "7\n",
      "9\n"
     ]
    }
   ],
   "source": [
    "test=test0(10)\n",
    "for i in test:\n",
    "    print(next(test))"
   ]
  },
  {
   "cell_type": "code",
   "execution_count": 20,
   "id": "ec48152f-67fd-4fcd-b1d3-8b82e38d53ed",
   "metadata": {},
   "outputs": [],
   "source": [
    "#5)\n",
    "def prime(a):\n",
    "    for i in range(1,1001):\n",
    "        for j in range(2,i):\n",
    "            if i%j==0:\n",
    "                break\n",
    "        else:\n",
    "            yield i"
   ]
  },
  {
   "cell_type": "code",
   "execution_count": 21,
   "id": "75177c63-46cf-413a-8302-43560b90e00c",
   "metadata": {},
   "outputs": [],
   "source": [
    "pr=prime(1000)"
   ]
  },
  {
   "cell_type": "code",
   "execution_count": 22,
   "id": "b4c72d41-d738-49c1-8c30-4fd145efb03f",
   "metadata": {},
   "outputs": [
    {
     "name": "stdout",
     "output_type": "stream",
     "text": [
      "1\n",
      "2\n",
      "3\n",
      "5\n",
      "7\n",
      "11\n",
      "13\n",
      "17\n",
      "19\n",
      "23\n",
      "29\n",
      "31\n",
      "37\n",
      "41\n",
      "43\n",
      "47\n",
      "53\n",
      "59\n",
      "61\n",
      "67\n"
     ]
    }
   ],
   "source": [
    "for i in range(20):\n",
    "    print(next(pr))"
   ]
  },
  {
   "cell_type": "code",
   "execution_count": 36,
   "id": "5d2fdd7d-ff3d-4f7b-a90e-eee595c0d22c",
   "metadata": {},
   "outputs": [],
   "source": [
    "#6)\n",
    "def fib(n):\n",
    "    a=0\n",
    "    b=1\n",
    "    i=0\n",
    "    while i<=n+1:\n",
    "        yield a\n",
    "        a,b=b,a+b\n",
    "        i+=1"
   ]
  },
  {
   "cell_type": "code",
   "execution_count": 37,
   "id": "8751cb8a-6390-48f2-852b-841d9a5cbb6f",
   "metadata": {},
   "outputs": [],
   "source": [
    "a=fib(10)"
   ]
  },
  {
   "cell_type": "code",
   "execution_count": 38,
   "id": "c42da1f2-f955-4a07-ad9c-830fd43baaa0",
   "metadata": {},
   "outputs": [
    {
     "name": "stdout",
     "output_type": "stream",
     "text": [
      "0\n",
      "1\n",
      "1\n",
      "2\n",
      "3\n",
      "5\n",
      "8\n",
      "13\n",
      "21\n",
      "34\n"
     ]
    }
   ],
   "source": [
    "for i in range(10):\n",
    "    print(next(a))"
   ]
  },
  {
   "cell_type": "code",
   "execution_count": 40,
   "id": "29b7bae7-4070-4256-b167-84f00ecba547",
   "metadata": {},
   "outputs": [],
   "source": [
    "#7)\n",
    "l=\"pwskills\""
   ]
  },
  {
   "cell_type": "code",
   "execution_count": 41,
   "id": "c6cab7dc-0c5d-40ac-bb96-13baa578dd46",
   "metadata": {},
   "outputs": [
    {
     "data": {
      "text/plain": [
       "'pwskills'"
      ]
     },
     "execution_count": 41,
     "metadata": {},
     "output_type": "execute_result"
    }
   ],
   "source": [
    "l"
   ]
  },
  {
   "cell_type": "code",
   "execution_count": 42,
   "id": "767a2ccb-ae4a-41b0-9905-8f9905638bff",
   "metadata": {},
   "outputs": [
    {
     "data": {
      "text/plain": [
       "['p', 'w', 's', 'k', 'i', 'l', 'l', 's']"
      ]
     },
     "execution_count": 42,
     "metadata": {},
     "output_type": "execute_result"
    }
   ],
   "source": [
    "[i for i in l ]"
   ]
  },
  {
   "cell_type": "code",
   "execution_count": 45,
   "id": "e452bbdf-c4f9-4578-9e29-0bdbc35e677e",
   "metadata": {},
   "outputs": [],
   "source": [
    "l1=\"1234\""
   ]
  },
  {
   "cell_type": "code",
   "execution_count": 46,
   "id": "854f054c-cb08-46e4-9277-7957df919293",
   "metadata": {},
   "outputs": [
    {
     "data": {
      "text/plain": [
       "'4321'"
      ]
     },
     "execution_count": 46,
     "metadata": {},
     "output_type": "execute_result"
    }
   ],
   "source": [
    "l1[::-1]"
   ]
  },
  {
   "cell_type": "code",
   "execution_count": 50,
   "id": "c03ef1c0-0153-41d5-8784-a901d248ba38",
   "metadata": {},
   "outputs": [],
   "source": [
    "#8)pallindrome check\n",
    "def pall(s):\n",
    "    a=s[::-1]\n",
    "    if a==s:\n",
    "        print(\"It is a pallindrome\")\n",
    "        "
   ]
  },
  {
   "cell_type": "code",
   "execution_count": 52,
   "id": "4c148750-870d-4786-82c9-7d4df2ac66ff",
   "metadata": {},
   "outputs": [
    {
     "name": "stdout",
     "output_type": "stream",
     "text": [
      "It is a pallindrome\n"
     ]
    }
   ],
   "source": [
    "pall(\"malayalam\")"
   ]
  },
  {
   "cell_type": "code",
   "execution_count": 6,
   "id": "888aa817-6960-4318-92f5-4a89ee4e9d9c",
   "metadata": {},
   "outputs": [],
   "source": [
    "l=[i for i in range(1,101)]"
   ]
  },
  {
   "cell_type": "code",
   "execution_count": null,
   "id": "5c41a02d-05ba-46b3-817c-850ab0e355c2",
   "metadata": {},
   "outputs": [],
   "source": [
    "a=filter()"
   ]
  }
 ],
 "metadata": {
  "kernelspec": {
   "display_name": "Python 3 (ipykernel)",
   "language": "python",
   "name": "python3"
  },
  "language_info": {
   "codemirror_mode": {
    "name": "ipython",
    "version": 3
   },
   "file_extension": ".py",
   "mimetype": "text/x-python",
   "name": "python",
   "nbconvert_exporter": "python",
   "pygments_lexer": "ipython3",
   "version": "3.10.8"
  }
 },
 "nbformat": 4,
 "nbformat_minor": 5
}
